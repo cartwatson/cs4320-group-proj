{
  "cells": [
    {
      "cell_type": "markdown",
      "metadata": {
        "id": "MNN3uubdGgt5"
      },
      "source": [
        "# Store Sales Time Series Forecasting  \n",
        "Group members: Spencer Potter, Ben Smith, Carter Watson\n",
        "\n",
        "[Kaggle Data](https://www.kaggle.com/competitions/store-sales-time-series-forecasting)"
      ]
    },
    {
      "cell_type": "markdown",
      "metadata": {
        "id": "26E99hV_KFbP"
      },
      "source": [
        "**Imports**"
      ]
    },
    {
      "cell_type": "code",
      "execution_count": 15,
      "metadata": {
        "id": "AT627d4FHRmF"
      },
      "outputs": [],
      "source": [
        "import matplotlib.pyplot as plt\n",
        "import numpy as np\n",
        "import pandas as pd\n",
        "from sklearn.compose import ColumnTransformer, make_column_transformer\n",
        "from sklearn.dummy import DummyRegressor\n",
        "from sklearn.impute import SimpleImputer\n",
        "from sklearn.model_selection import cross_val_score, cross_validate, train_test_split\n",
        "from sklearn.neighbors import KNeighborsClassifier\n",
        "from sklearn.pipeline import Pipeline, make_pipeline\n",
        "from sklearn.preprocessing import OneHotEncoder, StandardScaler, OrdinalEncoder\n",
        "from sklearn.svm import SVC\n",
        "from sklearn.tree import DecisionTreeClassifier"
      ]
    },
    {
      "cell_type": "markdown",
      "metadata": {
        "id": "IYX_iDwDKPAQ"
      },
      "source": [
        "**Introducing the DataSet**"
      ]
    },
    {
      "cell_type": "code",
      "execution_count": 16,
      "metadata": {
        "colab": {
          "base_uri": "https://localhost:8080/"
        },
        "id": "oEHTl-eLKUh6",
        "outputId": "f21a70f4-74aa-4719-ef58-80b3de6572f0"
      },
      "outputs": [
        {
          "name": "stdout",
          "output_type": "stream",
          "text": [
            "              id        date  store_nbr                      family     sales  \\\n",
            "0              0  2013-01-01          1                  AUTOMOTIVE     0.000   \n",
            "1              1  2013-01-01          1                   BABY CARE     0.000   \n",
            "2              2  2013-01-01          1                      BEAUTY     0.000   \n",
            "3              3  2013-01-01          1                   BEVERAGES     0.000   \n",
            "4              4  2013-01-01          1                       BOOKS     0.000   \n",
            "...          ...         ...        ...                         ...       ...   \n",
            "3000883  3000883  2017-08-15          9                     POULTRY   438.133   \n",
            "3000884  3000884  2017-08-15          9              PREPARED FOODS   154.553   \n",
            "3000885  3000885  2017-08-15          9                     PRODUCE  2419.729   \n",
            "3000886  3000886  2017-08-15          9  SCHOOL AND OFFICE SUPPLIES   121.000   \n",
            "3000887  3000887  2017-08-15          9                     SEAFOOD    16.000   \n",
            "\n",
            "         onpromotion  \n",
            "0                  0  \n",
            "1                  0  \n",
            "2                  0  \n",
            "3                  0  \n",
            "4                  0  \n",
            "...              ...  \n",
            "3000883            0  \n",
            "3000884            1  \n",
            "3000885          148  \n",
            "3000886            8  \n",
            "3000887            0  \n",
            "\n",
            "[3000888 rows x 6 columns]\n"
          ]
        }
      ],
      "source": [
        "train_df=pd.read_csv(\"needed_data/train.csv\")\n",
        "train_df.shape\n",
        "test_df=pd.read_csv(\"needed_data/test.csv\")\n",
        "test_df.shape\n",
        "print(train_df)"
      ]
    },
    {
      "cell_type": "code",
      "execution_count": 17,
      "metadata": {
        "colab": {
          "base_uri": "https://localhost:8080/",
          "height": 455
        },
        "id": "QSywl_qjpm3I",
        "outputId": "1d366f61-e4d0-4989-804b-a0ec9f0a6ac8"
      },
      "outputs": [
        {
          "data": {
            "text/html": [
              "<div>\n",
              "<style scoped>\n",
              "    .dataframe tbody tr th:only-of-type {\n",
              "        vertical-align: middle;\n",
              "    }\n",
              "\n",
              "    .dataframe tbody tr th {\n",
              "        vertical-align: top;\n",
              "    }\n",
              "\n",
              "    .dataframe thead th {\n",
              "        text-align: right;\n",
              "    }\n",
              "</style>\n",
              "<table border=\"1\" class=\"dataframe\">\n",
              "  <thead>\n",
              "    <tr style=\"text-align: right;\">\n",
              "      <th></th>\n",
              "      <th>date</th>\n",
              "      <th>store_nbr</th>\n",
              "      <th>family</th>\n",
              "      <th>onpromotion</th>\n",
              "    </tr>\n",
              "    <tr>\n",
              "      <th>id</th>\n",
              "      <th></th>\n",
              "      <th></th>\n",
              "      <th></th>\n",
              "      <th></th>\n",
              "    </tr>\n",
              "  </thead>\n",
              "  <tbody>\n",
              "    <tr>\n",
              "      <th>3000888</th>\n",
              "      <td>2017-08-16</td>\n",
              "      <td>1</td>\n",
              "      <td>AUTOMOTIVE</td>\n",
              "      <td>0</td>\n",
              "    </tr>\n",
              "    <tr>\n",
              "      <th>3000889</th>\n",
              "      <td>2017-08-16</td>\n",
              "      <td>1</td>\n",
              "      <td>BABY CARE</td>\n",
              "      <td>0</td>\n",
              "    </tr>\n",
              "    <tr>\n",
              "      <th>3000890</th>\n",
              "      <td>2017-08-16</td>\n",
              "      <td>1</td>\n",
              "      <td>BEAUTY</td>\n",
              "      <td>2</td>\n",
              "    </tr>\n",
              "    <tr>\n",
              "      <th>3000891</th>\n",
              "      <td>2017-08-16</td>\n",
              "      <td>1</td>\n",
              "      <td>BEVERAGES</td>\n",
              "      <td>20</td>\n",
              "    </tr>\n",
              "    <tr>\n",
              "      <th>3000892</th>\n",
              "      <td>2017-08-16</td>\n",
              "      <td>1</td>\n",
              "      <td>BOOKS</td>\n",
              "      <td>0</td>\n",
              "    </tr>\n",
              "    <tr>\n",
              "      <th>...</th>\n",
              "      <td>...</td>\n",
              "      <td>...</td>\n",
              "      <td>...</td>\n",
              "      <td>...</td>\n",
              "    </tr>\n",
              "    <tr>\n",
              "      <th>3029395</th>\n",
              "      <td>2017-08-31</td>\n",
              "      <td>9</td>\n",
              "      <td>POULTRY</td>\n",
              "      <td>1</td>\n",
              "    </tr>\n",
              "    <tr>\n",
              "      <th>3029396</th>\n",
              "      <td>2017-08-31</td>\n",
              "      <td>9</td>\n",
              "      <td>PREPARED FOODS</td>\n",
              "      <td>0</td>\n",
              "    </tr>\n",
              "    <tr>\n",
              "      <th>3029397</th>\n",
              "      <td>2017-08-31</td>\n",
              "      <td>9</td>\n",
              "      <td>PRODUCE</td>\n",
              "      <td>1</td>\n",
              "    </tr>\n",
              "    <tr>\n",
              "      <th>3029398</th>\n",
              "      <td>2017-08-31</td>\n",
              "      <td>9</td>\n",
              "      <td>SCHOOL AND OFFICE SUPPLIES</td>\n",
              "      <td>9</td>\n",
              "    </tr>\n",
              "    <tr>\n",
              "      <th>3029399</th>\n",
              "      <td>2017-08-31</td>\n",
              "      <td>9</td>\n",
              "      <td>SEAFOOD</td>\n",
              "      <td>0</td>\n",
              "    </tr>\n",
              "  </tbody>\n",
              "</table>\n",
              "<p>28512 rows × 4 columns</p>\n",
              "</div>"
            ],
            "text/plain": [
              "               date  store_nbr                      family  onpromotion\n",
              "id                                                                     \n",
              "3000888  2017-08-16          1                  AUTOMOTIVE            0\n",
              "3000889  2017-08-16          1                   BABY CARE            0\n",
              "3000890  2017-08-16          1                      BEAUTY            2\n",
              "3000891  2017-08-16          1                   BEVERAGES           20\n",
              "3000892  2017-08-16          1                       BOOKS            0\n",
              "...             ...        ...                         ...          ...\n",
              "3029395  2017-08-31          9                     POULTRY            1\n",
              "3029396  2017-08-31          9              PREPARED FOODS            0\n",
              "3029397  2017-08-31          9                     PRODUCE            1\n",
              "3029398  2017-08-31          9  SCHOOL AND OFFICE SUPPLIES            9\n",
              "3029399  2017-08-31          9                     SEAFOOD            0\n",
              "\n",
              "[28512 rows x 4 columns]"
            ]
          },
          "execution_count": 17,
          "metadata": {},
          "output_type": "execute_result"
        }
      ],
      "source": [
        "train_df.sort_index()\n",
        "train_df.set_index('id')\n",
        "test_df.sort_index()\n",
        "test_df.set_index('id')"
      ]
    },
    {
      "cell_type": "markdown",
      "metadata": {
        "id": "zOznlEyW1G2T"
      },
      "source": [
        "**Data Splitting**"
      ]
    },
    {
      "cell_type": "code",
      "execution_count": 18,
      "metadata": {
        "id": "JlEREMpm1Jcu"
      },
      "outputs": [],
      "source": [
        "x_train = train_df.loc[:, train_df.columns != 'sales']\n",
        "y_train = train_df['sales']\n",
        "x_test = test_df.loc[:, test_df.columns != 'sales']"
      ]
    },
    {
      "cell_type": "markdown",
      "metadata": {
        "id": "rL6FdkcINFpD"
      },
      "source": [
        "**Preprocessing Data**"
      ]
    },
    {
      "cell_type": "code",
      "execution_count": 19,
      "metadata": {
        "id": "ZRzssisBND5l"
      },
      "outputs": [],
      "source": [
        "numeric_data=[\"onpromotion\", \"store_nbr\"]\n",
        "categorical_features = [\"family\"]\n",
        "passthrough_data=[\"date\"]\n",
        "drop_data = [\"id\", \"date\"]"
      ]
    },
    {
      "cell_type": "markdown",
      "metadata": {
        "id": "B5HiCyC_z2Sw"
      },
      "source": [
        "**Pipeline Creation**"
      ]
    },
    {
      "cell_type": "code",
      "execution_count": 20,
      "metadata": {
        "id": "cgNLNTriQHML"
      },
      "outputs": [],
      "source": [
        "preprocessor = make_column_transformer(\n",
        "    (OneHotEncoder(handle_unknown=\"ignore\"),categorical_features ),\n",
        "    (StandardScaler(), numeric_data),\n",
        "    (\"drop\", drop_data),\n",
        ")"
      ]
    },
    {
      "cell_type": "code",
      "execution_count": 21,
      "metadata": {
        "colab": {
          "base_uri": "https://localhost:8080/"
        },
        "id": "20j6t-jq00BG",
        "outputId": "d4ade941-90f9-4f1e-c8e2-560b7ff29baf"
      },
      "outputs": [
        {
          "data": {
            "text/plain": [
              "(3000888, 35)"
            ]
          },
          "execution_count": 21,
          "metadata": {},
          "output_type": "execute_result"
        }
      ],
      "source": [
        "x_train_transformed = preprocessor.fit_transform(x_train)\n",
        "x_train_transformed.shape"
      ]
    },
    {
      "cell_type": "markdown",
      "metadata": {
        "id": "VwKHWhaX3RRp"
      },
      "source": [
        "## Dummy Model"
      ]
    },
    {
      "cell_type": "code",
      "execution_count": 22,
      "metadata": {
        "id": "iF62Z31l3Tgm"
      },
      "outputs": [],
      "source": [
        "baseline_model = make_pipeline(preprocessor, DummyRegressor(strategy='mean'))"
      ]
    },
    {
      "cell_type": "code",
      "execution_count": 24,
      "metadata": {
        "colab": {
          "base_uri": "https://localhost:8080/"
        },
        "id": "jba39Pds42uc",
        "outputId": "e18bfd1f-2571-4c8a-a61f-28476fd855da"
      },
      "outputs": [
        {
          "name": "stdout",
          "output_type": "stream",
          "text": [
            "   cross_val_scores\n",
            "0          0.062360\n",
            "1          0.045408\n",
            "2          0.006066\n",
            "3          0.002078\n",
            "4          0.001458\n",
            "5          0.001344\n",
            "6          0.005386\n",
            "7          0.004660\n",
            "8          0.008070\n",
            "9          0.010618\n"
          ]
        }
      ],
      "source": [
        "results_dict = {}\n",
        "scores = cross_val_score(baseline_model, x_train, y_train, cv=10)\n",
        "results_dict['cross_val_scores'] = -scores\n",
        "results_df = pd.DataFrame(results_dict)\n",
        "print(results_df)\n",
        "\n",
        "#Because we're using the dummy regressor, smaller values mean better accuracy"
      ]
    },
    {
      "cell_type": "code",
      "execution_count": 25,
      "metadata": {
        "id": "4OssMW6n-crI"
      },
      "outputs": [],
      "source": [
        "baseline_model.fit(x_train, y_train)\n",
        "prediction = baseline_model.predict(x_test)\n",
        "prediction_df = pd.DataFrame({'id': x_test.id, 'sales': prediction})\n",
        "prediction_df.to_csv(\"dummy_test_predictions.csv\", index=False)"
      ]
    },
    {
      "cell_type": "markdown",
      "metadata": {
        "id": "aJyh325cdaYm"
      },
      "source": [
        "## Linear Regression Model"
      ]
    },
    {
      "cell_type": "code",
      "execution_count": 26,
      "metadata": {
        "colab": {
          "base_uri": "https://localhost:8080/"
        },
        "id": "Kenb4vWodfJ9",
        "outputId": "33b8c46e-d063-49a3-d8ca-cdee39239b16"
      },
      "outputs": [
        {
          "name": "stdout",
          "output_type": "stream",
          "text": [
            "   cross_val_scores\n",
            "0          0.301366\n",
            "1          0.387207\n",
            "2          0.458411\n",
            "3          0.494414\n",
            "4          0.506138\n",
            "5          0.544965\n",
            "6          0.547082\n",
            "7          0.529239\n",
            "8          0.574934\n",
            "9          0.587695\n"
          ]
        }
      ],
      "source": [
        "from sklearn.linear_model import LinearRegression\n",
        "lRModel = make_pipeline(preprocessor, LinearRegression())\n",
        "results_lR_dict = {}\n",
        "scores = cross_val_score(lRModel, x_train, y_train, cv=10)\n",
        "results_lR_dict['cross_val_scores'] = scores\n",
        "results_lR_df = pd.DataFrame(results_lR_dict)\n",
        "print(results_lR_df)"
      ]
    },
    {
      "cell_type": "code",
      "execution_count": 27,
      "metadata": {
        "id": "VP7SlQeapbQo"
      },
      "outputs": [],
      "source": [
        "lRModel.fit(x_train, y_train)\n",
        "lR_prediciton=lRModel.predict(x_test)\n",
        "lR_prediciton = [max(0, pred) for pred in lR_prediciton]\n",
        "prediction_df = pd.DataFrame({'id': x_test.id, 'sales': lR_prediciton})\n",
        "prediction_df.to_csv(\"linear_regression_test_predictions.csv\", index=False)"
      ]
    },
    {
      "cell_type": "markdown",
      "metadata": {},
      "source": [
        "## "
      ]
    }
  ],
  "metadata": {
    "colab": {
      "provenance": []
    },
    "kernelspec": {
      "display_name": "Python 3",
      "name": "python3"
    },
    "language_info": {
      "codemirror_mode": {
        "name": "ipython",
        "version": 3
      },
      "file_extension": ".py",
      "mimetype": "text/x-python",
      "name": "python",
      "nbconvert_exporter": "python",
      "pygments_lexer": "ipython3",
      "version": "3.10.12"
    }
  },
  "nbformat": 4,
  "nbformat_minor": 0
}
